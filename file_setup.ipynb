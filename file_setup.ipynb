{
 "cells": [
  {
   "cell_type": "markdown",
   "metadata": {},
   "source": [
    "## Imports"
   ]
  },
  {
   "cell_type": "code",
   "execution_count": 1,
   "metadata": {},
   "outputs": [],
   "source": [
    "import requests\n",
    "import pandas as pd\n",
    "import json\n",
    "from builtins import len\n"
   ]
  },
  {
   "cell_type": "markdown",
   "metadata": {},
   "source": [
    "## Download file"
   ]
  },
  {
   "cell_type": "code",
   "execution_count": 40,
   "metadata": {},
   "outputs": [],
   "source": [
    "url = 'https://raw.githubusercontent.com/tmakesense/logical-fallacy/main/dataset-fixed/edu_all_fixed.csv'\n",
    "filename = 'edu_all_fixed.csv'\n",
    "\n",
    "response = requests.get(url)\n",
    "with open(filename, 'wb') as file:\n",
    "    file.write(response.content)\n",
    "    "
   ]
  },
  {
   "cell_type": "code",
   "execution_count": 41,
   "metadata": {},
   "outputs": [],
   "source": [
    "def get_line_count(file_path, encoding='utf-8'):\n",
    "    with open(file_path, 'r', encoding=encoding, errors='ignore') as file:\n",
    "        line_count = sum(1 for line in file)\n",
    "    return line_count"
   ]
  },
  {
   "cell_type": "code",
   "execution_count": 42,
   "metadata": {},
   "outputs": [
    {
     "name": "stdout",
     "output_type": "stream",
     "text": [
      "Line count: 2226\n"
     ]
    }
   ],
   "source": [
    "line_count = get_line_count('edu_all_fixed.csv')\n",
    "print(f\"Line count: {line_count}\")"
   ]
  },
  {
   "cell_type": "markdown",
   "metadata": {},
   "source": [
    "## Transform file"
   ]
  },
  {
   "cell_type": "code",
   "execution_count": 43,
   "metadata": {},
   "outputs": [
    {
     "name": "stdout",
     "output_type": "stream",
     "text": [
      "Line count: 2223\n"
     ]
    }
   ],
   "source": [
    "df = pd.read_csv('edu_all_fixed.csv')\n",
    "df_filtered = df[df['updated_label'] != 'miscellaneous'] # remove 'miscellaneous' label\n",
    "sorted_df = df_filtered.sort_values(by='updated_label') # sort by 'updated_label'\n",
    "sorted_df.to_csv('edu_all_fixed_transformed.csv', index=False)\n",
    "\n",
    "line_count = get_line_count('edu_all_fixed_transformed.csv')\n",
    "print(f\"Line count: {line_count}\")"
   ]
  },
  {
   "cell_type": "code",
   "execution_count": 44,
   "metadata": {},
   "outputs": [],
   "source": [
    "df = pd.read_csv('edu_all_fixed_transformed.csv')\n",
    "\n",
    "with open('mapping.json') as file:\n",
    "    mapping = json.load(file)\n",
    "\n",
    "df['updated_label'] = df['updated_label'].map(mapping)\n",
    "df.to_csv('edu_all_fixed_transformed_mapped.csv', index=False, quoting=1)\n"
   ]
  },
  {
   "cell_type": "code",
   "execution_count": 45,
   "metadata": {},
   "outputs": [],
   "source": [
    "def split_and_save_by_category(input_file_path, output_file_path1, output_file_path2, encoding='utf-8'):\n",
    "    # Read the CSV file\n",
    "    df = pd.read_csv(input_file_path, encoding=encoding)\n",
    "\n",
    "    # Get unique categories\n",
    "    categories = df['updated_label'].unique()\n",
    "\n",
    "    # Initialize empty dataframes for the two files\n",
    "    df1 = pd.DataFrame(columns=df.columns)\n",
    "    df2 = pd.DataFrame(columns=df.columns)\n",
    "\n",
    "    # Split each category into two halves\n",
    "    for category in categories:\n",
    "        category_df = df[df['updated_label'] == category]\n",
    "        half_size = len(category_df) // 2\n",
    "\n",
    "        df1 = pd.concat([df1, category_df.iloc[:half_size]])\n",
    "        df2 = pd.concat([df2, category_df.iloc[half_size:]])\n",
    "\n",
    "    # Save the split dataframes to two separate CSV files\n",
    "    df1.to_csv(output_file_path1, index=False, encoding=encoding, quoting=1)\n",
    "    df2.to_csv(output_file_path2, index=False, encoding=encoding, quoting=1)"
   ]
  },
  {
   "cell_type": "code",
   "execution_count": 46,
   "metadata": {},
   "outputs": [
    {
     "name": "stdout",
     "output_type": "stream",
     "text": [
      "Line count of 1st half: 1109\n",
      "Line count of 2nd half: 1115\n"
     ]
    }
   ],
   "source": [
    "split_and_save_by_category('edu_all_fixed_transformed_mapped.csv', 'edu_all_fixed_transformed_1st_half.csv', 'edu_all_fixed_transformed_2nd_half.csv')\n",
    "\n",
    "# print file 1 line count\n",
    "line_count = get_line_count('edu_all_fixed_transformed_1st_half.csv')\n",
    "print(f\"Line count of 1st half: {line_count}\")\n",
    "\n",
    "# print file 2 line count\n",
    "line_count = get_line_count('edu_all_fixed_transformed_2nd_half.csv')\n",
    "print(f\"Line count of 2nd half: {line_count}\")"
   ]
  },
  {
   "cell_type": "code",
   "execution_count": 47,
   "metadata": {},
   "outputs": [
    {
     "name": "stdout",
     "output_type": "stream",
     "text": [
      "All lines except the first one are different between the two files.\n"
     ]
    }
   ],
   "source": [
    "df1 = pd.read_csv('edu_all_fixed_transformed_1st_half.csv', skiprows=1)\n",
    "df2 = pd.read_csv('edu_all_fixed_transformed_2nd_half.csv', skiprows=1)\n",
    "\n",
    "# Convert DataFrames to lists of strings for comparison\n",
    "lines1 = df1.astype(str).apply(lambda x: ','.join(x), axis=1).tolist()\n",
    "lines2 = df2.astype(str).apply(lambda x: ','.join(x), axis=1).tolist()\n",
    "\n",
    "# Check that all lines in the two files are different\n",
    "all_different = set(lines1).isdisjoint(lines2)\n",
    "\n",
    "# Print the result\n",
    "if all_different:\n",
    "    print(\"All lines except the first one are different between the two files.\")\n",
    "else:\n",
    "    print(\"There are some common lines between the two files.\")\n",
    "    "
   ]
  },
  {
   "cell_type": "markdown",
   "metadata": {},
   "source": [
    "## Output"
   ]
  },
  {
   "cell_type": "code",
   "execution_count": 7,
   "metadata": {},
   "outputs": [],
   "source": [
    "output = pd.read_csv('output_new.csv')\n",
    "input = pd.read_csv('input.csv')\n",
    "\n",
    "input['source_article'] = output\n",
    "input.to_csv('output_full.csv', index=False)\n"
   ]
  },
  {
   "cell_type": "code",
   "execution_count": 8,
   "metadata": {},
   "outputs": [
    {
     "name": "stdout",
     "output_type": "stream",
     "text": [
      "1108\n"
     ]
    }
   ],
   "source": [
    "df = pd.read_csv('output_full.csv')\n",
    "print(len(df))"
   ]
  },
  {
   "cell_type": "markdown",
   "metadata": {},
   "source": [
    "## Simple sentences"
   ]
  },
  {
   "cell_type": "code",
   "execution_count": 2,
   "metadata": {},
   "outputs": [],
   "source": [
    "import pandas as pd"
   ]
  },
  {
   "cell_type": "code",
   "execution_count": 5,
   "metadata": {},
   "outputs": [],
   "source": [
    "df = pd.read_csv('input.csv')\n",
    "\n",
    "def remove_excessive_lines(df, max_words=30):\n",
    "    # Filter rows where the word count in 'source_article' is less than or equal to max_words\n",
    "    df_filtered = df[df['source_article'].apply(lambda x: len(x.split()) <= max_words)]\n",
    "    return df_filtered\n",
    "\n",
    "df_reduced = remove_excessive_lines(df)\n",
    "df_reduced.to_csv('output_reduced.csv', index=False)\n"
   ]
  }
 ],
 "metadata": {
  "kernelspec": {
   "display_name": "Python 3",
   "language": "python",
   "name": "python3"
  },
  "language_info": {
   "codemirror_mode": {
    "name": "ipython",
    "version": 3
   },
   "file_extension": ".py",
   "mimetype": "text/x-python",
   "name": "python",
   "nbconvert_exporter": "python",
   "pygments_lexer": "ipython3",
   "version": "3.10.8"
  }
 },
 "nbformat": 4,
 "nbformat_minor": 2
}
